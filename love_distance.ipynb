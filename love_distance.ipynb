{
  "nbformat": 4,
  "nbformat_minor": 0,
  "metadata": {
    "colab": {
      "name": "love-distance.ipynb",
      "provenance": [],
      "collapsed_sections": [],
      "include_colab_link": true
    },
    "kernelspec": {
      "name": "python3",
      "display_name": "Python 3"
    },
    "language_info": {
      "name": "python"
    }
  },
  "cells": [
    {
      "cell_type": "markdown",
      "metadata": {
        "id": "view-in-github",
        "colab_type": "text"
      },
      "source": [
        "<a href=\"https://colab.research.google.com/github/cjsutton77/PracticeProblems/blob/main/love_distance.ipynb\" target=\"_parent\"><img src=\"https://colab.research.google.com/assets/colab-badge.svg\" alt=\"Open In Colab\"/></a>"
      ]
    },
    {
      "cell_type": "markdown",
      "source": [
        "[![PracticeProbs](https://d33wubrfki0l68.cloudfront.net/b6800cc830e3fd5a3a4c3d9cfb1137e6a4c15c77/ec467/assets/images/transparent-1.png)](https://www.practiceprobs.com/)"
      ],
      "metadata": {
        "id": "t1VEtnSjbu-d"
      }
    },
    {
      "cell_type": "markdown",
      "source": [
        "# [Love Distance](https://www.practiceprobs.com/problemsets/python-numpy/intermediate/love-distance/)\n",
        "\n",
        "You’re a relationship scientist, and you’ve developed a questionnaire that determines a person’s *love score* - a real-valued number between 0 and 100. Your theory is that two people with similar love scores should make a good match 👩‍❤️‍💋‍👨\n",
        "\n",
        "Given the love scores for 10 different people, create a 2-d array where (i,j) gives the absolute difference of the love scores for person i and person j."
      ],
      "metadata": {
        "id": "M6yShpelZy-I"
      }
    },
    {
      "cell_type": "code",
      "source": [
        "import numpy as np\n",
        "np.set_printoptions(linewidth=1000)\n",
        "\n",
        "generator = np.random.default_rng(1010)\n",
        "love_scores = np.round(generator.uniform(low=0, high=100, size=10), 2)\n",
        "\n",
        "print(love_scores)\n",
        "# [ 9.5  53.58 91.77 98.15 84.88 74.61 40.94 56.49  8.39 64.69]"
      ],
      "metadata": {
        "id": "ZlHN2R3QaPX3",
        "outputId": "091abf2f-4bee-47ec-cac8-19033b86051f",
        "colab": {
          "base_uri": "https://localhost:8080/"
        }
      },
      "execution_count": 1,
      "outputs": [
        {
          "output_type": "stream",
          "name": "stdout",
          "text": [
            "[ 9.5  53.58 91.77 98.15 84.88 74.61 40.94 56.49  8.39 64.69]\n"
          ]
        }
      ]
    },
    {
      "cell_type": "markdown",
      "source": [
        "---"
      ],
      "metadata": {
        "id": "h7D8d-J5cela"
      }
    },
    {
      "cell_type": "code",
      "source": [
        "cross1 = np.array([10*[i] for i in love_scores])\n",
        "cross1"
      ],
      "metadata": {
        "id": "CWwTWfYCa4k0",
        "outputId": "b419162e-dd28-435e-c009-533094dacc2b",
        "colab": {
          "base_uri": "https://localhost:8080/"
        }
      },
      "execution_count": 2,
      "outputs": [
        {
          "output_type": "execute_result",
          "data": {
            "text/plain": [
              "array([[ 9.5 ,  9.5 ,  9.5 ,  9.5 ,  9.5 ,  9.5 ,  9.5 ,  9.5 ,  9.5 ,  9.5 ],\n",
              "       [53.58, 53.58, 53.58, 53.58, 53.58, 53.58, 53.58, 53.58, 53.58, 53.58],\n",
              "       [91.77, 91.77, 91.77, 91.77, 91.77, 91.77, 91.77, 91.77, 91.77, 91.77],\n",
              "       [98.15, 98.15, 98.15, 98.15, 98.15, 98.15, 98.15, 98.15, 98.15, 98.15],\n",
              "       [84.88, 84.88, 84.88, 84.88, 84.88, 84.88, 84.88, 84.88, 84.88, 84.88],\n",
              "       [74.61, 74.61, 74.61, 74.61, 74.61, 74.61, 74.61, 74.61, 74.61, 74.61],\n",
              "       [40.94, 40.94, 40.94, 40.94, 40.94, 40.94, 40.94, 40.94, 40.94, 40.94],\n",
              "       [56.49, 56.49, 56.49, 56.49, 56.49, 56.49, 56.49, 56.49, 56.49, 56.49],\n",
              "       [ 8.39,  8.39,  8.39,  8.39,  8.39,  8.39,  8.39,  8.39,  8.39,  8.39],\n",
              "       [64.69, 64.69, 64.69, 64.69, 64.69, 64.69, 64.69, 64.69, 64.69, 64.69]])"
            ]
          },
          "metadata": {},
          "execution_count": 2
        }
      ]
    },
    {
      "cell_type": "code",
      "source": [
        "cross2 = cross1.T\n",
        "cross2"
      ],
      "metadata": {
        "id": "Fugcn1ep_baE",
        "outputId": "8b4b624c-2f02-4469-eaed-adb6ad769322",
        "colab": {
          "base_uri": "https://localhost:8080/"
        }
      },
      "execution_count": 3,
      "outputs": [
        {
          "output_type": "execute_result",
          "data": {
            "text/plain": [
              "array([[ 9.5 , 53.58, 91.77, 98.15, 84.88, 74.61, 40.94, 56.49,  8.39, 64.69],\n",
              "       [ 9.5 , 53.58, 91.77, 98.15, 84.88, 74.61, 40.94, 56.49,  8.39, 64.69],\n",
              "       [ 9.5 , 53.58, 91.77, 98.15, 84.88, 74.61, 40.94, 56.49,  8.39, 64.69],\n",
              "       [ 9.5 , 53.58, 91.77, 98.15, 84.88, 74.61, 40.94, 56.49,  8.39, 64.69],\n",
              "       [ 9.5 , 53.58, 91.77, 98.15, 84.88, 74.61, 40.94, 56.49,  8.39, 64.69],\n",
              "       [ 9.5 , 53.58, 91.77, 98.15, 84.88, 74.61, 40.94, 56.49,  8.39, 64.69],\n",
              "       [ 9.5 , 53.58, 91.77, 98.15, 84.88, 74.61, 40.94, 56.49,  8.39, 64.69],\n",
              "       [ 9.5 , 53.58, 91.77, 98.15, 84.88, 74.61, 40.94, 56.49,  8.39, 64.69],\n",
              "       [ 9.5 , 53.58, 91.77, 98.15, 84.88, 74.61, 40.94, 56.49,  8.39, 64.69],\n",
              "       [ 9.5 , 53.58, 91.77, 98.15, 84.88, 74.61, 40.94, 56.49,  8.39, 64.69]])"
            ]
          },
          "metadata": {},
          "execution_count": 3
        }
      ]
    },
    {
      "cell_type": "code",
      "source": [
        "love_matrix = np.abs(cross1 - cross2)\n",
        "love_matrix"
      ],
      "metadata": {
        "id": "a5Z3kh-a_5Ev",
        "outputId": "a75e3f74-4a90-4d7b-b1f6-d7a03f935d5a",
        "colab": {
          "base_uri": "https://localhost:8080/"
        }
      },
      "execution_count": 4,
      "outputs": [
        {
          "output_type": "execute_result",
          "data": {
            "text/plain": [
              "array([[ 0.  , 44.08, 82.27, 88.65, 75.38, 65.11, 31.44, 46.99,  1.11, 55.19],\n",
              "       [44.08,  0.  , 38.19, 44.57, 31.3 , 21.03, 12.64,  2.91, 45.19, 11.11],\n",
              "       [82.27, 38.19,  0.  ,  6.38,  6.89, 17.16, 50.83, 35.28, 83.38, 27.08],\n",
              "       [88.65, 44.57,  6.38,  0.  , 13.27, 23.54, 57.21, 41.66, 89.76, 33.46],\n",
              "       [75.38, 31.3 ,  6.89, 13.27,  0.  , 10.27, 43.94, 28.39, 76.49, 20.19],\n",
              "       [65.11, 21.03, 17.16, 23.54, 10.27,  0.  , 33.67, 18.12, 66.22,  9.92],\n",
              "       [31.44, 12.64, 50.83, 57.21, 43.94, 33.67,  0.  , 15.55, 32.55, 23.75],\n",
              "       [46.99,  2.91, 35.28, 41.66, 28.39, 18.12, 15.55,  0.  , 48.1 ,  8.2 ],\n",
              "       [ 1.11, 45.19, 83.38, 89.76, 76.49, 66.22, 32.55, 48.1 ,  0.  , 56.3 ],\n",
              "       [55.19, 11.11, 27.08, 33.46, 20.19,  9.92, 23.75,  8.2 , 56.3 ,  0.  ]])"
            ]
          },
          "metadata": {},
          "execution_count": 4
        }
      ]
    },
    {
      "cell_type": "markdown",
      "source": [
        "## [See our solution!](https://www.practiceprobs.com/problemsets/python-numpy/intermediate/love-distance/solution/)"
      ],
      "metadata": {
        "id": "bF3kvEc4a4It"
      }
    }
  ]
}