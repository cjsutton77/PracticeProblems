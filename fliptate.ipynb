{
  "nbformat": 4,
  "nbformat_minor": 0,
  "metadata": {
    "colab": {
      "name": "fliptate.ipynb",
      "provenance": [],
      "collapsed_sections": [],
      "include_colab_link": true
    },
    "kernelspec": {
      "name": "python3",
      "display_name": "Python 3"
    },
    "language_info": {
      "name": "python"
    }
  },
  "cells": [
    {
      "cell_type": "markdown",
      "metadata": {
        "id": "view-in-github",
        "colab_type": "text"
      },
      "source": [
        "<a href=\"https://colab.research.google.com/github/cjsutton77/PracticeProblems/blob/main/fliptate.ipynb\" target=\"_parent\"><img src=\"https://colab.research.google.com/assets/colab-badge.svg\" alt=\"Open In Colab\"/></a>"
      ]
    },
    {
      "cell_type": "markdown",
      "source": [
        "[![PracticeProbs](https://d33wubrfki0l68.cloudfront.net/b6800cc830e3fd5a3a4c3d9cfb1137e6a4c15c77/ec467/assets/images/transparent-1.png)](https://www.practiceprobs.com/)"
      ],
      "metadata": {
        "id": "t1VEtnSjbu-d"
      }
    },
    {
      "cell_type": "markdown",
      "source": [
        "# [Fliptate](https://www.practiceprobs.com/problemsets/pytorch/tensors/fliptate/)\n",
        "\n",
        "Given an 8x8x3 tensor which represents an image of the number 4,\n",
        "\n",
        "![](https://www.practiceprobs.com/problemsets/pytorch/images/four.png)\n",
        "\n",
        "Flip the image horizontally.\n",
        "\n",
        "![](https://www.practiceprobs.com/problemsets/pytorch/images/four-flipped.png)\n",
        "\n",
        "Then rotate the image clockwise 90 degrees.\n",
        "\n",
        "![](https://www.practiceprobs.com/problemsets/pytorch/images/four-rotated.png)"
      ],
      "metadata": {
        "id": "M6yShpelZy-I"
      }
    },
    {
      "cell_type": "code",
      "source": [
        "import torch\n",
        "\n",
        "r = torch.tensor([\n",
        "    [0,0,0,0,0,0,0,0],\n",
        "    [0,0,0,0,0,0,0,0],\n",
        "    [0,0,1,0,0,1,0,0],\n",
        "    [0,0,1,0,0,1,0,0],\n",
        "    [0,0,1,1,1,1,0,0],\n",
        "    [0,0,0,0,0,1,0,0],\n",
        "    [0,0,0,0,0,1,0,0],\n",
        "    [0,0,0,0,0,1,0,0]\n",
        "], dtype=torch.float32)\n",
        "g = 0.8*r\n",
        "b = 0.5*r\n",
        "img = torch.moveaxis(torch.stack((r,g,b)), 0, -1)\n",
        "\n",
        "print(img.shape)\n",
        "# torch.Size([8, 8, 3]) "
      ],
      "metadata": {
        "id": "fuIWanzgwtPP",
        "outputId": "57c9c770-dfb2-437f-c6c1-eb0ffe216f53",
        "colab": {
          "base_uri": "https://localhost:8080/"
        }
      },
      "execution_count": 1,
      "outputs": [
        {
          "output_type": "stream",
          "name": "stdout",
          "text": [
            "torch.Size([8, 8, 3])\n"
          ]
        }
      ]
    },
    {
      "cell_type": "code",
      "source": [
        "import matplotlib.pyplot as plt"
      ],
      "metadata": {
        "id": "eLVuOPBJb_ax"
      },
      "execution_count": 2,
      "outputs": []
    },
    {
      "cell_type": "markdown",
      "source": [
        "---"
      ],
      "metadata": {
        "id": "h7D8d-J5cela"
      }
    },
    {
      "cell_type": "markdown",
      "source": [
        "Below, we just use the flip to reverse along axis = 1"
      ],
      "metadata": {
        "id": "K1jY8hGvh4dA"
      }
    },
    {
      "cell_type": "code",
      "source": [
        "plt.imshow(img.flip(1))"
      ],
      "metadata": {
        "id": "d76r4zfUe1Lz",
        "outputId": "fce4184b-86b2-4b05-eebc-51fd5c99f656",
        "colab": {
          "base_uri": "https://localhost:8080/",
          "height": 282
        }
      },
      "execution_count": 3,
      "outputs": [
        {
          "output_type": "execute_result",
          "data": {
            "text/plain": [
              "<matplotlib.image.AxesImage at 0x7f2cf6143bd0>"
            ]
          },
          "metadata": {},
          "execution_count": 3
        },
        {
          "output_type": "display_data",
          "data": {
            "text/plain": [
              "<Figure size 432x288 with 1 Axes>"
            ],
            "image/png": "[encoded data removed]"
          },
          "metadata": {
            "needs_background": "light"
          }
        }
      ]
    },
    {
      "cell_type": "markdown",
      "source": [
        "Same idea here.  We'll just stack up methods.  We'll keep the image flipped, and rotate by 90 degrees away from the axis."
      ],
      "metadata": {
        "id": "8urvtSMWidqh"
      }
    },
    {
      "cell_type": "code",
      "source": [
        "plt.imshow(img.flip(1).rot90(-1))"
      ],
      "metadata": {
        "id": "yHHtVrMLhWoS",
        "outputId": "5987ddfd-19f4-4bf6-8792-5f16e3bf4288",
        "colab": {
          "base_uri": "https://localhost:8080/",
          "height": 282
        }
      },
      "execution_count": 4,
      "outputs": [
        {
          "output_type": "execute_result",
          "data": {
            "text/plain": [
              "<matplotlib.image.AxesImage at 0x7f2cf5c5da90>"
            ]
          },
          "metadata": {},
          "execution_count": 4
        },
        {
          "output_type": "display_data",
          "data": {
            "text/plain": [
              "<Figure size 432x288 with 1 Axes>"
            ],
            "image/png": "[encoded data removed]"
          },
          "metadata": {
            "needs_background": "light"
          }
        }
      ]
    },
    {
      "cell_type": "markdown",
      "source": [
        "## [See our solution!](https://www.practiceprobs.com/problemsets/pytorch/tensors/fliptate/solution/)"
      ],
      "metadata": {
        "id": "bF3kvEc4a4It"
      }
    }
  ]
}