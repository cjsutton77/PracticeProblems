{
  "nbformat": 4,
  "nbformat_minor": 0,
  "metadata": {
    "colab": {
      "name": "gold-miner.ipynb",
      "provenance": [],
      "collapsed_sections": [],
      "include_colab_link": true
    },
    "kernelspec": {
      "name": "python3",
      "display_name": "Python 3"
    },
    "language_info": {
      "name": "python"
    }
  },
  "cells": [
    {
      "cell_type": "markdown",
      "metadata": {
        "id": "view-in-github",
        "colab_type": "text"
      },
      "source": [
        "<a href=\"https://colab.research.google.com/github/cjsutton77/PracticeProblems/blob/main/gold_miner.ipynb\" target=\"_parent\"><img src=\"https://colab.research.google.com/assets/colab-badge.svg\" alt=\"Open In Colab\"/></a>"
      ]
    },
    {
      "cell_type": "markdown",
      "source": [
        "[![PracticeProbs](https://d33wubrfki0l68.cloudfront.net/b6800cc830e3fd5a3a4c3d9cfb1137e6a4c15c77/ec467/assets/images/transparent-1.png)](https://www.practiceprobs.com/)"
      ],
      "metadata": {
        "id": "t1VEtnSjbu-d"
      }
    },
    {
      "cell_type": "markdown",
      "source": [
        "# [Gold Miner](https://www.practiceprobs.com/problemsets/python-numpy/beginner/gold-miner/)\n",
        "\n",
        "After binge watching the Discovery channel, you ditch your job as a trial lawyer to become a gold miner. You decide to prospect five locations underneath a 7x7 grid of land. How much gold do you uncover at each location?"
      ],
      "metadata": {
        "id": "M6yShpelZy-I"
      }
    },
    {
      "cell_type": "code",
      "source": [
        "import numpy as np\n",
        "\n",
        "np.random.seed(5555)\n",
        "gold = np.random.randint(low=0, high=10, size=(7,7))\n",
        "\n",
        "print(gold)\n",
        "# [[2 3 0 5 2 0 3]\n",
        "#  [8 8 0 7 1 5 3]\n",
        "#  [0 1 6 2 1 4 5]\n",
        "#  [4 0 8 9 9 8 7]\n",
        "#  [4 2 7 0 7 2 1]\n",
        "#  [9 8 9 2 5 0 8]\n",
        "#  [1 9 8 2 6 4 3]]\n",
        "\n",
        "locs = np.array([\n",
        "    [0,4],\n",
        "    [2,2],\n",
        "    [2,3],\n",
        "    [5,1],\n",
        "    [6,3]\n",
        "])"
      ],
      "metadata": {
        "colab": {
          "base_uri": "https://localhost:8080/"
        },
        "id": "ZlHN2R3QaPX3",
        "outputId": "0a7e102d-52fc-4a46-e74b-ea4c41b1b2d1"
      },
      "execution_count": 1,
      "outputs": [
        {
          "output_type": "stream",
          "name": "stdout",
          "text": [
            "[[2 3 0 5 2 0 3]\n",
            " [8 8 0 7 1 5 3]\n",
            " [0 1 6 2 1 4 5]\n",
            " [4 0 8 9 9 8 7]\n",
            " [4 2 7 0 7 2 1]\n",
            " [9 8 9 2 5 0 8]\n",
            " [1 9 8 2 6 4 3]]\n"
          ]
        }
      ]
    },
    {
      "cell_type": "markdown",
      "source": [
        "**Notes**\n",
        "\n",
        "- `gold` states how much gold is under each location in the 7x7 grid of land\n",
        "- `locs` states the coordinates of the five locations where you dig\n"
      ],
      "metadata": {
        "id": "xsPF49EvaBAM"
      }
    },
    {
      "cell_type": "markdown",
      "source": [
        "---"
      ],
      "metadata": {
        "id": "h7D8d-J5cela"
      }
    },
    {
      "cell_type": "code",
      "source": [
        "s = 0\n",
        "for i in locs:\n",
        " r,c = i\n",
        " s += gold[r,c]\n",
        "print(s)"
      ],
      "metadata": {
        "id": "CWwTWfYCa4k0",
        "outputId": "ae973fdd-1ea0-4001-daa1-36199bd753ad",
        "colab": {
          "base_uri": "https://localhost:8080/"
        }
      },
      "execution_count": 2,
      "outputs": [
        {
          "output_type": "stream",
          "name": "stdout",
          "text": [
            "20\n"
          ]
        }
      ]
    },
    {
      "cell_type": "markdown",
      "source": [
        "## [See our solution!](https://www.practiceprobs.com/problemsets/python-numpy/beginner/gold-miner/solution/)"
      ],
      "metadata": {
        "id": "bF3kvEc4a4It"
      }
    }
  ]
}