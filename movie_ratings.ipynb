{
  "nbformat": 4,
  "nbformat_minor": 0,
  "metadata": {
    "colab": {
      "name": "movie-ratings.ipynb",
      "provenance": [],
      "collapsed_sections": [],
      "include_colab_link": true
    },
    "kernelspec": {
      "name": "python3",
      "display_name": "Python 3"
    },
    "language_info": {
      "name": "python"
    }
  },
  "cells": [
    {
      "cell_type": "markdown",
      "metadata": {
        "id": "view-in-github",
        "colab_type": "text"
      },
      "source": [
        "<a href=\"https://colab.research.google.com/github/cjsutton77/PracticeProblems/blob/main/movie_ratings.ipynb\" target=\"_parent\"><img src=\"https://colab.research.google.com/assets/colab-badge.svg\" alt=\"Open In Colab\"/></a>"
      ]
    },
    {
      "cell_type": "markdown",
      "source": [
        "[![PracticeProbs](https://d33wubrfki0l68.cloudfront.net/b6800cc830e3fd5a3a4c3d9cfb1137e6a4c15c77/ec467/assets/images/transparent-1.png)](https://www.practiceprobs.com/)"
      ],
      "metadata": {
        "id": "t1VEtnSjbu-d"
      }
    },
    {
      "cell_type": "markdown",
      "source": [
        "# [Movie Ratings](https://www.practiceprobs.com/problemsets/python-numpy/proficient/movie-ratings/)\n",
        "\n",
        "You’re given a 10x2 array of floats where each row represents a movie. The first column represents the movie’s rating and the second column represents the director’s rating."
      ],
      "metadata": {
        "id": "M6yShpelZy-I"
      }
    },
    {
      "cell_type": "code",
      "source": [
        "import numpy as np\n",
        "\n",
        "generator = np.random.default_rng(123)\n",
        "ratings = np.round(generator.uniform(low=0.0, high=10.0, size=(10, 2)))\n",
        "ratings[[1,2,7,9], [0,0,0,0]] = np.nan\n",
        "\n",
        "print(ratings)\n",
        "# [[ 7.  1.]\n",
        "#  [nan  2.]\n",
        "#  [nan  8.]\n",
        "#  [ 9.  3.]\n",
        "#  [ 8.  9.]\n",
        "#  [ 5.  2.]\n",
        "#  [ 8.  2.]\n",
        "#  [nan  6.]\n",
        "#  [ 9.  2.]\n",
        "#  [nan  5.]]"
      ],
      "metadata": {
        "id": "ZlHN2R3QaPX3",
        "outputId": "3d85f324-0d5f-4650-fe5a-fee5b5044c66",
        "colab": {
          "base_uri": "https://localhost:8080/"
        }
      },
      "execution_count": 1,
      "outputs": [
        {
          "output_type": "stream",
          "name": "stdout",
          "text": [
            "[[ 7.  1.]\n",
            " [nan  2.]\n",
            " [nan  8.]\n",
            " [ 9.  3.]\n",
            " [ 8.  9.]\n",
            " [ 5.  2.]\n",
            " [ 8.  2.]\n",
            " [nan  6.]\n",
            " [ 9.  2.]\n",
            " [nan  5.]]\n"
          ]
        }
      ]
    },
    {
      "cell_type": "markdown",
      "source": [
        "Create a third column that represents the overall rating. The overall rating is equal to the movie rating if it exists, otherwise the director’s rating."
      ],
      "metadata": {
        "id": "w9EsBXWUhpCa"
      }
    },
    {
      "cell_type": "markdown",
      "source": [
        "---"
      ],
      "metadata": {
        "id": "h7D8d-J5cela"
      }
    },
    {
      "cell_type": "markdown",
      "source": [
        "Let's break this one liner into a couple of steps.. \n",
        "\n",
        "`np.isnan` checks to see if the element is indeed a nan.  I wasn't able to check doing logical comparison to `np.nan`.  where needs the following arguments:  \n",
        "\n",
        "condition\n",
        "if condition is true, \n",
        "if condition is false\n",
        "\n",
        "we reshape since the array is (10,), and it needs to be (10,1).  Once we have it in (10,1) we can just do a `np.hstack` to put the last vector at the end of the matrix.\n",
        "\n"
      ],
      "metadata": {
        "id": "3FDoHogTfggN"
      }
    },
    {
      "cell_type": "code",
      "source": [
        "overall = np.where(np.isnan(ratings[:,0]),ratings[:,1],ratings[:,0])"
      ],
      "metadata": {
        "id": "Oq-t0Ucve2Z2"
      },
      "execution_count": 2,
      "outputs": []
    },
    {
      "cell_type": "code",
      "source": [
        "overall = overall.reshape((10,1))"
      ],
      "metadata": {
        "id": "k_4Msu94fLpV"
      },
      "execution_count": 3,
      "outputs": []
    },
    {
      "cell_type": "code",
      "source": [
        "overall = np.hstack((ratings,overall))\n",
        "overall"
      ],
      "metadata": {
        "id": "J86mWGpZZsAC",
        "outputId": "05aa6645-e483-4ab1-bcb8-72ea11aa54bc",
        "colab": {
          "base_uri": "https://localhost:8080/"
        }
      },
      "execution_count": 4,
      "outputs": [
        {
          "output_type": "execute_result",
          "data": {
            "text/plain": [
              "array([[ 7.,  1.,  7.],\n",
              "       [nan,  2.,  2.],\n",
              "       [nan,  8.,  8.],\n",
              "       [ 9.,  3.,  9.],\n",
              "       [ 8.,  9.,  8.],\n",
              "       [ 5.,  2.,  5.],\n",
              "       [ 8.,  2.,  8.],\n",
              "       [nan,  6.,  6.],\n",
              "       [ 9.,  2.,  9.],\n",
              "       [nan,  5.,  5.]])"
            ]
          },
          "metadata": {},
          "execution_count": 4
        }
      ]
    },
    {
      "cell_type": "markdown",
      "source": [
        "## [See our solution!](https://www.practiceprobs.com/problemsets/python-numpy/proficient/movie-ratings/solution/)"
      ],
      "metadata": {
        "id": "bF3kvEc4a4It"
      }
    }
  ]
}