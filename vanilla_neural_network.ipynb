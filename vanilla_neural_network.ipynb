{
  "nbformat": 4,
  "nbformat_minor": 0,
  "metadata": {
    "colab": {
      "name": "vanilla-neural-network.ipynb",
      "provenance": [],
      "collapsed_sections": [],
      "include_colab_link": true
    },
    "kernelspec": {
      "name": "python3",
      "display_name": "Python 3"
    },
    "language_info": {
      "name": "python"
    }
  },
  "cells": [
    {
      "cell_type": "markdown",
      "metadata": {
        "id": "view-in-github",
        "colab_type": "text"
      },
      "source": [
        "<a href=\"https://colab.research.google.com/github/cjsutton77/PracticeProblems/blob/main/vanilla_neural_network.ipynb\" target=\"_parent\"><img src=\"https://colab.research.google.com/assets/colab-badge.svg\" alt=\"Open In Colab\"/></a>"
      ]
    },
    {
      "cell_type": "markdown",
      "source": [
        "[![PracticeProbs](https://d33wubrfki0l68.cloudfront.net/b6800cc830e3fd5a3a4c3d9cfb1137e6a4c15c77/ec467/assets/images/transparent-1.png)](https://www.practiceprobs.com/)"
      ],
      "metadata": {
        "id": "t1VEtnSjbu-d"
      }
    },
    {
      "cell_type": "markdown",
      "source": [
        "# [Vanilla Neural Network](https://www.practiceprobs.com/problemsets/pytorch/tensors/vanilla-neural-network/)\n",
        "\n",
        "Here's a \"vanilla\" 🍦 feed-forward neural network with [logistic activation functions](https://en.wikipedia.org/wiki/Logistic_function) and [softmax](https://en.wikipedia.org/wiki/Softmax_function) applied to the output layer.\n",
        "\n",
        "<img src=\"https://www.practiceprobs.com/problemsets/pytorch/images/vanilla.png\" width=\"800px\">\n",
        "\n",
        "Given the following `X` and `y` tensors representing training data,"
      ],
      "metadata": {
        "id": "M6yShpelZy-I"
      }
    },
    {
      "cell_type": "code",
      "source": [
        "import torch\n",
        "\n",
        "# Make data\n",
        "torch.manual_seed(4321)\n",
        "X = torch.rand(size=(8,2))\n",
        "y = torch.randint(low=0, high=3, size=(8,))\n",
        "\n",
        "print(X)\n",
        "# tensor([[0.1255, 0.5377],\n",
        "#         [0.6564, 0.0365],\n",
        "#         [0.5837, 0.7018],\n",
        "#         [0.3068, 0.9500],\n",
        "#         [0.4321, 0.2946],\n",
        "#         [0.6015, 0.1762],\n",
        "#         [0.9945, 0.3177],\n",
        "#         [0.9886, 0.3911]])\n",
        "\n",
        "print(y) \n",
        "# tensor([0, 2, 2, 0, 2, 2, 0, 1])"
      ],
      "metadata": {
        "id": "BiiG4lSlxb2G",
        "colab": {
          "base_uri": "https://localhost:8080/"
        },
        "outputId": "9d5d3c4d-496e-4c7f-ae2e-5f8df96ccb25"
      },
      "execution_count": 3,
      "outputs": [
        {
          "output_type": "stream",
          "name": "stdout",
          "text": [
            "tensor([[0.1255, 0.5377],\n",
            "        [0.6564, 0.0365],\n",
            "        [0.5837, 0.7018],\n",
            "        [0.3068, 0.9500],\n",
            "        [0.4321, 0.2946],\n",
            "        [0.6015, 0.1762],\n",
            "        [0.9945, 0.3177],\n",
            "        [0.9886, 0.3911]])\n",
            "tensor([0, 2, 2, 0, 2, 2, 0, 1])\n"
          ]
        }
      ]
    },
    {
      "cell_type": "markdown",
      "source": [
        "calculate:\n",
        "\n",
        "1. the predictions (forward pass)\n",
        "2. the loss using categorical cross entropy\n",
        "3. the gradient of the loss with respect to the weights and biases"
      ],
      "metadata": {
        "id": "heA1LlVtxd7O"
      }
    },
    {
      "cell_type": "markdown",
      "source": [
        "---"
      ],
      "metadata": {
        "id": "h7D8d-J5cela"
      }
    },
    {
      "cell_type": "code",
      "source": [
        "# Your brilliant solution here!"
      ],
      "metadata": {
        "id": "CWwTWfYCa4k0"
      },
      "execution_count": 4,
      "outputs": []
    },
    {
      "cell_type": "code",
      "source": [
        "w1 = torch.tensor([[0.48,-0.43],[-0.51,-0.48]])\n",
        "W1.size()"
      ],
      "metadata": {
        "colab": {
          "base_uri": "https://localhost:8080/"
        },
        "id": "3C-w_QaGHf5K",
        "outputId": "8beddda3-0312-4db5-da00-f5b5404e7e16"
      },
      "execution_count": 12,
      "outputs": [
        {
          "output_type": "execute_result",
          "data": {
            "text/plain": [
              "torch.Size([2, 2])"
            ]
          },
          "metadata": {},
          "execution_count": 12
        }
      ]
    },
    {
      "cell_type": "code",
      "source": [
        "b1 = torch.tensor([[0.23,0.05]])\n",
        "b1.size()"
      ],
      "metadata": {
        "colab": {
          "base_uri": "https://localhost:8080/"
        },
        "id": "FOlXz2fSHgkD",
        "outputId": "3de23bc6-1bb5-49a8-9c1a-17a4489dac1b"
      },
      "execution_count": 13,
      "outputs": [
        {
          "output_type": "execute_result",
          "data": {
            "text/plain": [
              "torch.Size([1, 2])"
            ]
          },
          "metadata": {},
          "execution_count": 13
        }
      ]
    },
    {
      "cell_type": "code",
      "source": [
        "w2 = torch.tensor([[-0.99,0.36,-0.75],[-0.66,0.34,0.66]])\n",
        "w2.size()"
      ],
      "metadata": {
        "colab": {
          "base_uri": "https://localhost:8080/"
        },
        "id": "J0mjaXegHg49",
        "outputId": "9438286e-386c-45bf-b0b0-68ce8eab7351"
      },
      "execution_count": 15,
      "outputs": [
        {
          "output_type": "execute_result",
          "data": {
            "text/plain": [
              "torch.Size([2, 3])"
            ]
          },
          "metadata": {},
          "execution_count": 15
        }
      ]
    },
    {
      "cell_type": "code",
      "source": [
        "b1 = torch.tensor([[0.32,-0.44,0.7]])"
      ],
      "metadata": {
        "id": "-jzptZRiKO9w"
      },
      "execution_count": 17,
      "outputs": []
    },
    {
      "cell_type": "code",
      "source": [
        "b1.size()"
      ],
      "metadata": {
        "colab": {
          "base_uri": "https://localhost:8080/"
        },
        "id": "VT2y2m0pKdw8",
        "outputId": "2d1e61e7-5bee-4508-ac14-fc0e991d2ef5"
      },
      "execution_count": 18,
      "outputs": [
        {
          "output_type": "execute_result",
          "data": {
            "text/plain": [
              "torch.Size([1, 3])"
            ]
          },
          "metadata": {},
          "execution_count": 18
        }
      ]
    },
    {
      "cell_type": "code",
      "source": [
        "def sigmoid(x):\n",
        "  return 1/(1 + torch.exp(-x))"
      ],
      "metadata": {
        "id": "vyMhTPtaL2-u"
      },
      "execution_count": 19,
      "outputs": []
    },
    {
      "cell_type": "code",
      "source": [
        ""
      ],
      "metadata": {
        "id": "uUYfcL8sL5ly"
      },
      "execution_count": null,
      "outputs": []
    },
    {
      "cell_type": "code",
      "source": [
        ""
      ],
      "metadata": {
        "id": "Kg5Qc0rlL3Ni"
      },
      "execution_count": null,
      "outputs": []
    },
    {
      "cell_type": "markdown",
      "source": [
        "## [See our solution!](https://www.practiceprobs.com/problemsets/pytorch/tensors/vanilla-neural-network/solution/)"
      ],
      "metadata": {
        "id": "bF3kvEc4a4It"
      }
    }
  ]
}