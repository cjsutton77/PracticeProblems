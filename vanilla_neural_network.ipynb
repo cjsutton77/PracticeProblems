{
  "nbformat": 4,
  "nbformat_minor": 0,
  "metadata": {
    "colab": {
      "name": "vanilla-neural-network.ipynb",
      "provenance": [],
      "collapsed_sections": [],
      "include_colab_link": true
    },
    "kernelspec": {
      "name": "python3",
      "display_name": "Python 3"
    },
    "language_info": {
      "name": "python"
    }
  },
  "cells": [
    {
      "cell_type": "markdown",
      "metadata": {
        "id": "view-in-github",
        "colab_type": "text"
      },
      "source": [
        "<a href=\"https://colab.research.google.com/github/cjsutton77/PracticeProblems/blob/main/vanilla_neural_network.ipynb\" target=\"_parent\"><img src=\"https://colab.research.google.com/assets/colab-badge.svg\" alt=\"Open In Colab\"/></a>"
      ]
    },
    {
      "cell_type": "markdown",
      "source": [
        "[![PracticeProbs](https://d33wubrfki0l68.cloudfront.net/b6800cc830e3fd5a3a4c3d9cfb1137e6a4c15c77/ec467/assets/images/transparent-1.png)](https://www.practiceprobs.com/)"
      ],
      "metadata": {
        "id": "t1VEtnSjbu-d"
      }
    },
    {
      "cell_type": "markdown",
      "source": [
        "# [Vanilla Neural Network](https://www.practiceprobs.com/problemsets/pytorch/tensors/vanilla-neural-network/)\n",
        "\n",
        "Here's a \"vanilla\" 🍦 feed-forward neural network with [logistic activation functions](https://en.wikipedia.org/wiki/Logistic_function) and [softmax](https://en.wikipedia.org/wiki/Softmax_function) applied to the output layer.\n",
        "\n",
        "<img src=\"https://www.practiceprobs.com/problemsets/pytorch/images/vanilla.png\" width=\"800px\">\n",
        "\n",
        "Given the following `X` and `y` tensors representing training data,"
      ],
      "metadata": {
        "id": "M6yShpelZy-I"
      }
    },
    {
      "cell_type": "code",
      "source": [
        "import torch\n",
        "\n",
        "# Make data\n",
        "torch.manual_seed(4321)\n",
        "X = torch.rand(size=(8,2))\n",
        "y = torch.randint(low=0, high=3, size=(8,))\n",
        "\n",
        "print(X)\n",
        "# tensor([[0.1255, 0.5377],\n",
        "#         [0.6564, 0.0365],\n",
        "#         [0.5837, 0.7018],\n",
        "#         [0.3068, 0.9500],\n",
        "#         [0.4321, 0.2946],\n",
        "#         [0.6015, 0.1762],\n",
        "#         [0.9945, 0.3177],\n",
        "#         [0.9886, 0.3911]])\n",
        "\n",
        "print(y) \n",
        "# tensor([0, 2, 2, 0, 2, 2, 0, 1])"
      ],
      "metadata": {
        "id": "BiiG4lSlxb2G",
        "colab": {
          "base_uri": "https://localhost:8080/"
        },
        "outputId": "80582c68-1212-4cf5-c2a0-001cbec2627b"
      },
      "execution_count": 1,
      "outputs": [
        {
          "output_type": "stream",
          "name": "stdout",
          "text": [
            "tensor([[0.1255, 0.5377],\n",
            "        [0.6564, 0.0365],\n",
            "        [0.5837, 0.7018],\n",
            "        [0.3068, 0.9500],\n",
            "        [0.4321, 0.2946],\n",
            "        [0.6015, 0.1762],\n",
            "        [0.9945, 0.3177],\n",
            "        [0.9886, 0.3911]])\n",
            "tensor([0, 2, 2, 0, 2, 2, 0, 1])\n"
          ]
        }
      ]
    },
    {
      "cell_type": "markdown",
      "source": [
        "calculate:\n",
        "\n",
        "1. the predictions (forward pass)\n",
        "2. the loss using categorical cross entropy\n",
        "3. the gradient of the loss with respect to the weights and biases"
      ],
      "metadata": {
        "id": "heA1LlVtxd7O"
      }
    },
    {
      "cell_type": "markdown",
      "source": [
        "---"
      ],
      "metadata": {
        "id": "h7D8d-J5cela"
      }
    },
    {
      "cell_type": "code",
      "source": [
        "# Your brilliant solution here!"
      ],
      "metadata": {
        "id": "CWwTWfYCa4k0"
      },
      "execution_count": 2,
      "outputs": []
    },
    {
      "cell_type": "code",
      "source": [
        "w1 = torch.tensor([[0.48,-0.43],[-0.51,-0.48]],requires_grad=True)\n",
        "w1.size()"
      ],
      "metadata": {
        "colab": {
          "base_uri": "https://localhost:8080/"
        },
        "id": "3C-w_QaGHf5K",
        "outputId": "3a23419f-182b-4b09-c491-add40773b7f9"
      },
      "execution_count": 3,
      "outputs": [
        {
          "output_type": "execute_result",
          "data": {
            "text/plain": [
              "torch.Size([2, 2])"
            ]
          },
          "metadata": {},
          "execution_count": 3
        }
      ]
    },
    {
      "cell_type": "code",
      "source": [
        "b1 = torch.tensor([[0.23,0.05]],requires_grad=True)\n",
        "b1.size()"
      ],
      "metadata": {
        "colab": {
          "base_uri": "https://localhost:8080/"
        },
        "id": "FOlXz2fSHgkD",
        "outputId": "60d2c28d-718a-4f46-8869-36803abb852e"
      },
      "execution_count": 4,
      "outputs": [
        {
          "output_type": "execute_result",
          "data": {
            "text/plain": [
              "torch.Size([1, 2])"
            ]
          },
          "metadata": {},
          "execution_count": 4
        }
      ]
    },
    {
      "cell_type": "code",
      "source": [
        "w2 = torch.tensor([[-0.99,0.36,-0.75],[-0.66,0.34,0.66]],requires_grad=True)\n",
        "w2.size()"
      ],
      "metadata": {
        "colab": {
          "base_uri": "https://localhost:8080/"
        },
        "id": "J0mjaXegHg49",
        "outputId": "b81833c3-6aef-4e53-f575-de569ca7cb12"
      },
      "execution_count": 5,
      "outputs": [
        {
          "output_type": "execute_result",
          "data": {
            "text/plain": [
              "torch.Size([2, 3])"
            ]
          },
          "metadata": {},
          "execution_count": 5
        }
      ]
    },
    {
      "cell_type": "code",
      "source": [
        "b2 = torch.tensor([[0.32,-0.44,0.7]],requires_grad=True)\n",
        "b2.size()"
      ],
      "metadata": {
        "id": "-jzptZRiKO9w",
        "outputId": "05590660-2502-49c0-c89f-9dae08c446ff",
        "colab": {
          "base_uri": "https://localhost:8080/"
        }
      },
      "execution_count": 6,
      "outputs": [
        {
          "output_type": "execute_result",
          "data": {
            "text/plain": [
              "torch.Size([1, 3])"
            ]
          },
          "metadata": {},
          "execution_count": 6
        }
      ]
    },
    {
      "cell_type": "code",
      "source": [
        "def sigmoid(x):\n",
        "  return 1/(1 + torch.exp(-x))"
      ],
      "metadata": {
        "id": "vyMhTPtaL2-u"
      },
      "execution_count": 7,
      "outputs": []
    },
    {
      "cell_type": "code",
      "source": [
        "z1 = X @ w1 + b1\n",
        "z1, z1.shape"
      ],
      "metadata": {
        "id": "uUYfcL8sL5ly",
        "outputId": "2dde487f-d04e-49a5-b734-91fb163086c0",
        "colab": {
          "base_uri": "https://localhost:8080/"
        }
      },
      "execution_count": 8,
      "outputs": [
        {
          "output_type": "execute_result",
          "data": {
            "text/plain": [
              "(tensor([[ 0.0160, -0.2621],\n",
              "         [ 0.5264, -0.2498],\n",
              "         [ 0.1522, -0.5378],\n",
              "         [-0.1073, -0.5379],\n",
              "         [ 0.2872, -0.2772],\n",
              "         [ 0.4289, -0.2932],\n",
              "         [ 0.5454, -0.5301],\n",
              "         [ 0.5051, -0.5628]], grad_fn=<AddBackward0>), torch.Size([8, 2]))"
            ]
          },
          "metadata": {},
          "execution_count": 8
        }
      ]
    },
    {
      "cell_type": "code",
      "source": [
        "sigmoid(z1),sigmoid(z1).shape"
      ],
      "metadata": {
        "id": "Kg5Qc0rlL3Ni",
        "outputId": "cc4625d2-2a78-4afd-e857-f75d8173548c",
        "colab": {
          "base_uri": "https://localhost:8080/"
        }
      },
      "execution_count": 9,
      "outputs": [
        {
          "output_type": "execute_result",
          "data": {
            "text/plain": [
              "(tensor([[0.5040, 0.4349],\n",
              "         [0.6287, 0.4379],\n",
              "         [0.5380, 0.3687],\n",
              "         [0.4732, 0.3687],\n",
              "         [0.5713, 0.4311],\n",
              "         [0.6056, 0.4272],\n",
              "         [0.6331, 0.3705],\n",
              "         [0.6236, 0.3629]], grad_fn=<MulBackward0>), torch.Size([8, 2]))"
            ]
          },
          "metadata": {},
          "execution_count": 9
        }
      ]
    },
    {
      "cell_type": "code",
      "source": [
        "w2,w2.shape"
      ],
      "metadata": {
        "id": "3vsJyb943Gv9",
        "outputId": "a080eb0f-17dd-491a-97ce-a872db176dd5",
        "colab": {
          "base_uri": "https://localhost:8080/"
        }
      },
      "execution_count": 10,
      "outputs": [
        {
          "output_type": "execute_result",
          "data": {
            "text/plain": [
              "(tensor([[-0.9900,  0.3600, -0.7500],\n",
              "         [-0.6600,  0.3400,  0.6600]], requires_grad=True), torch.Size([2, 3]))"
            ]
          },
          "metadata": {},
          "execution_count": 10
        }
      ]
    },
    {
      "cell_type": "code",
      "source": [
        "z2 = sigmoid(z1) @ w2 + b2\n",
        "z2,z2.shape"
      ],
      "metadata": {
        "id": "mJzQJqTv3JrJ",
        "outputId": "c8e3cf02-8c43-497f-ce30-de78fdf3e240",
        "colab": {
          "base_uri": "https://localhost:8080/"
        }
      },
      "execution_count": 11,
      "outputs": [
        {
          "output_type": "execute_result",
          "data": {
            "text/plain": [
              "(tensor([[-0.4660, -0.1107,  0.6090],\n",
              "         [-0.5914, -0.0648,  0.5175],\n",
              "         [-0.4559, -0.1210,  0.5398],\n",
              "         [-0.3918, -0.1443,  0.5884],\n",
              "         [-0.5301, -0.0877,  0.5561],\n",
              "         [-0.5615, -0.0767,  0.5278],\n",
              "         [-0.5513, -0.0861,  0.4697],\n",
              "         [-0.5369, -0.0921,  0.4718]], grad_fn=<AddBackward0>),\n",
              " torch.Size([8, 3]))"
            ]
          },
          "metadata": {},
          "execution_count": 11
        }
      ]
    },
    {
      "cell_type": "code",
      "source": [
        "from torch import nn"
      ],
      "metadata": {
        "id": "C6l3aPDb3qCs"
      },
      "execution_count": 12,
      "outputs": []
    },
    {
      "cell_type": "code",
      "source": [
        "loss = nn.CrossEntropyLoss()\n",
        "softmax = nn.Softmax(1)"
      ],
      "metadata": {
        "id": "qIDQMpWY3sCt"
      },
      "execution_count": 13,
      "outputs": []
    },
    {
      "cell_type": "code",
      "source": [
        "torch.exp(torch.tensor([-0.5440, -0.0693,  0.7010]))"
      ],
      "metadata": {
        "id": "9TSgyXrv4gGR",
        "outputId": "7445b0b2-76b0-4a86-db75-461edef1f1e4",
        "colab": {
          "base_uri": "https://localhost:8080/"
        }
      },
      "execution_count": 14,
      "outputs": [
        {
          "output_type": "execute_result",
          "data": {
            "text/plain": [
              "tensor([0.5804, 0.9330, 2.0158])"
            ]
          },
          "metadata": {},
          "execution_count": 14
        }
      ]
    },
    {
      "cell_type": "code",
      "source": [
        "torch.exp(torch.tensor([-0.5440, -0.0693,  0.7010])).sum()"
      ],
      "metadata": {
        "id": "9SEkO8x948LX",
        "outputId": "9db596ff-8e2b-418f-cc98-215ebc9e870a",
        "colab": {
          "base_uri": "https://localhost:8080/"
        }
      },
      "execution_count": 15,
      "outputs": [
        {
          "output_type": "execute_result",
          "data": {
            "text/plain": [
              "tensor(3.5292)"
            ]
          },
          "metadata": {},
          "execution_count": 15
        }
      ]
    },
    {
      "cell_type": "code",
      "source": [
        "torch.exp(torch.tensor([-0.5440, -0.0693,  0.7010]))/torch.exp(torch.tensor([-0.5440, -0.0693,  0.7010])).sum()"
      ],
      "metadata": {
        "id": "V4PAjP2P5CCk",
        "outputId": "67a0d95d-9783-4df4-c6fe-2f448b0b6ff8",
        "colab": {
          "base_uri": "https://localhost:8080/"
        }
      },
      "execution_count": 16,
      "outputs": [
        {
          "output_type": "execute_result",
          "data": {
            "text/plain": [
              "tensor([0.1645, 0.2644, 0.5712])"
            ]
          },
          "metadata": {},
          "execution_count": 16
        }
      ]
    },
    {
      "cell_type": "code",
      "source": [
        "softmax(z2)"
      ],
      "metadata": {
        "id": "YkMVxzwE331G",
        "outputId": "c7459954-47e6-42d2-ccec-30a2ae26e6f9",
        "colab": {
          "base_uri": "https://localhost:8080/"
        }
      },
      "execution_count": 17,
      "outputs": [
        {
          "output_type": "execute_result",
          "data": {
            "text/plain": [
              "tensor([[0.1867, 0.2663, 0.5470],\n",
              "        [0.1747, 0.2958, 0.5295],\n",
              "        [0.1959, 0.2738, 0.5303],\n",
              "        [0.2022, 0.2590, 0.5388],\n",
              "        [0.1812, 0.2820, 0.5368],\n",
              "        [0.1787, 0.2902, 0.5311],\n",
              "        [0.1863, 0.2966, 0.5171],\n",
              "        [0.1886, 0.2943, 0.5171]], grad_fn=<SoftmaxBackward0>)"
            ]
          },
          "metadata": {},
          "execution_count": 17
        }
      ]
    },
    {
      "cell_type": "code",
      "source": [
        "l = loss(softmax(z2),y)\n",
        "l"
      ],
      "metadata": {
        "id": "uUMbbzXc5IZQ",
        "outputId": "94d2befe-ba35-48cd-c9ce-b8bbe737ace0",
        "colab": {
          "base_uri": "https://localhost:8080/"
        }
      },
      "execution_count": 18,
      "outputs": [
        {
          "output_type": "execute_result",
          "data": {
            "text/plain": [
              "tensor(1.0681, grad_fn=<NllLossBackward0>)"
            ]
          },
          "metadata": {},
          "execution_count": 18
        }
      ]
    },
    {
      "cell_type": "code",
      "source": [
        "l.backward()"
      ],
      "metadata": {
        "id": "S6N0n4b75axO"
      },
      "execution_count": 19,
      "outputs": []
    },
    {
      "cell_type": "code",
      "source": [
        "print(f'{w1.grad}\\n{w2.grad}\\n{b1.grad}\\n{b2.grad}')"
      ],
      "metadata": {
        "id": "d_OkRsEo5eWQ",
        "outputId": "1125256f-2236-4016-baf0-09bdf009c2b3",
        "colab": {
          "base_uri": "https://localhost:8080/"
        }
      },
      "execution_count": 20,
      "outputs": [
        {
          "output_type": "stream",
          "name": "stdout",
          "text": [
            "tensor([[ 0.0057, -0.0017],\n",
            "        [ 0.0067,  0.0058]])\n",
            "tensor([[-0.0059,  0.0323, -0.0264],\n",
            "        [-0.0053,  0.0252, -0.0199]])\n",
            "tensor([[0.0167, 0.0001]])\n",
            "tensor([[-0.0157,  0.0579, -0.0422]])\n"
          ]
        }
      ]
    },
    {
      "cell_type": "markdown",
      "source": [
        "## [See our solution!](https://www.practiceprobs.com/problemsets/pytorch/tensors/vanilla-neural-network/solution/)"
      ],
      "metadata": {
        "id": "bF3kvEc4a4It"
      }
    }
  ]
}